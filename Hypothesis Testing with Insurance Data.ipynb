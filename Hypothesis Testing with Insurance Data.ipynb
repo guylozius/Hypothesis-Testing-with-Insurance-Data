{
 "cells": [
  {
   "cell_type": "code",
   "execution_count": 7,
   "id": "39782cc3",
   "metadata": {},
   "outputs": [],
   "source": [
    "import pandas as pd\n",
    "import numpy as np\n",
    "import matplotlib.pyplot as plt\n",
    "import seaborn as sns\n",
    "import scipy.stats as stats"
   ]
  },
  {
   "cell_type": "code",
   "execution_count": 2,
   "id": "674c8e78",
   "metadata": {},
   "outputs": [
    {
     "data": {
      "text/html": [
       "<div>\n",
       "<style scoped>\n",
       "    .dataframe tbody tr th:only-of-type {\n",
       "        vertical-align: middle;\n",
       "    }\n",
       "\n",
       "    .dataframe tbody tr th {\n",
       "        vertical-align: top;\n",
       "    }\n",
       "\n",
       "    .dataframe thead th {\n",
       "        text-align: right;\n",
       "    }\n",
       "</style>\n",
       "<table border=\"1\" class=\"dataframe\">\n",
       "  <thead>\n",
       "    <tr style=\"text-align: right;\">\n",
       "      <th></th>\n",
       "      <th>age</th>\n",
       "      <th>sex</th>\n",
       "      <th>bmi</th>\n",
       "      <th>children</th>\n",
       "      <th>smoker</th>\n",
       "      <th>region</th>\n",
       "      <th>charges</th>\n",
       "    </tr>\n",
       "  </thead>\n",
       "  <tbody>\n",
       "    <tr>\n",
       "      <th>0</th>\n",
       "      <td>19</td>\n",
       "      <td>female</td>\n",
       "      <td>27.900</td>\n",
       "      <td>0</td>\n",
       "      <td>yes</td>\n",
       "      <td>southwest</td>\n",
       "      <td>16884.92400</td>\n",
       "    </tr>\n",
       "    <tr>\n",
       "      <th>1</th>\n",
       "      <td>18</td>\n",
       "      <td>male</td>\n",
       "      <td>33.770</td>\n",
       "      <td>1</td>\n",
       "      <td>no</td>\n",
       "      <td>southeast</td>\n",
       "      <td>1725.55230</td>\n",
       "    </tr>\n",
       "    <tr>\n",
       "      <th>2</th>\n",
       "      <td>28</td>\n",
       "      <td>male</td>\n",
       "      <td>33.000</td>\n",
       "      <td>3</td>\n",
       "      <td>no</td>\n",
       "      <td>southeast</td>\n",
       "      <td>4449.46200</td>\n",
       "    </tr>\n",
       "    <tr>\n",
       "      <th>3</th>\n",
       "      <td>33</td>\n",
       "      <td>male</td>\n",
       "      <td>22.705</td>\n",
       "      <td>0</td>\n",
       "      <td>no</td>\n",
       "      <td>northwest</td>\n",
       "      <td>21984.47061</td>\n",
       "    </tr>\n",
       "    <tr>\n",
       "      <th>4</th>\n",
       "      <td>32</td>\n",
       "      <td>male</td>\n",
       "      <td>28.880</td>\n",
       "      <td>0</td>\n",
       "      <td>no</td>\n",
       "      <td>northwest</td>\n",
       "      <td>3866.85520</td>\n",
       "    </tr>\n",
       "  </tbody>\n",
       "</table>\n",
       "</div>"
      ],
      "text/plain": [
       "   age     sex     bmi  children smoker     region      charges\n",
       "0   19  female  27.900         0    yes  southwest  16884.92400\n",
       "1   18    male  33.770         1     no  southeast   1725.55230\n",
       "2   28    male  33.000         3     no  southeast   4449.46200\n",
       "3   33    male  22.705         0     no  northwest  21984.47061\n",
       "4   32    male  28.880         0     no  northwest   3866.85520"
      ]
     },
     "execution_count": 2,
     "metadata": {},
     "output_type": "execute_result"
    }
   ],
   "source": [
    "df = pd.read_csv('insurance.csv')\n",
    "df.head()"
   ]
  },
  {
   "cell_type": "markdown",
   "id": "8ec09a2c",
   "metadata": {},
   "source": [
    "#  Do smokers have higher insurance charges than non-smokers?"
   ]
  },
  {
   "cell_type": "markdown",
   "id": "4960657b",
   "metadata": {},
   "source": [
    "Null Hypothesis:</br> There is no difference in insurance charge between smokers and non-smokers.\n",
    "\n",
    "Alternative Hypothesis:</br>  There is difference in insurance charge between smokers and non-smokers.\n"
   ]
  },
  {
   "cell_type": "code",
   "execution_count": 105,
   "id": "5157f329",
   "metadata": {},
   "outputs": [],
   "source": [
    "# making two dataframe for smoker and other for non-smoker\n",
    "smoker_df = df.loc[df['smoker']=='yes',:].copy()\n",
    "nonsmoker_df = df.loc[df['smoker']=='no',:].copy()\n",
    "#define our feature of interest\n",
    "smoker_charges = smoker_df['charges']\n",
    "nonsmoker_charges = nonsmoker_df['charges']"
   ]
  },
  {
   "cell_type": "markdown",
   "id": "3065bfeb",
   "metadata": {},
   "source": [
    "## size of the groups"
   ]
  },
  {
   "cell_type": "code",
   "execution_count": 106,
   "id": "f6c25eb7",
   "metadata": {},
   "outputs": [
    {
     "name": "stdout",
     "output_type": "stream",
     "text": [
      "size of smoker 274\n",
      "size of non_smoker 1064\n"
     ]
    }
   ],
   "source": [
    "print(f'size of smoker {len(smoker_charges)}')\n",
    "print(f'size of non_smoker {len(nonsmoker_charges)}')"
   ]
  },
  {
   "cell_type": "markdown",
   "id": "7f06ac2c",
   "metadata": {},
   "source": [
    "## ASSUMPTIONS"
   ]
  },
  {
   "cell_type": "markdown",
   "id": "86479d5a",
   "metadata": {},
   "source": [
    "### Checking for Outliers"
   ]
  },
  {
   "cell_type": "code",
   "execution_count": 107,
   "id": "614b8787",
   "metadata": {},
   "outputs": [
    {
     "data": {
      "text/plain": [
       "0"
      ]
     },
     "execution_count": 107,
     "metadata": {},
     "output_type": "execute_result"
    }
   ],
   "source": [
    "# Check for outliers in smoker_df\n",
    "zscores= stats.zscore(smoker_charges)\n",
    "outliers = abs(zscores)>3\n",
    "np.sum(outliers)"
   ]
  },
  {
   "cell_type": "markdown",
   "id": "4c59bc41",
   "metadata": {},
   "source": [
    "> There are no outliers in smoker"
   ]
  },
  {
   "cell_type": "code",
   "execution_count": 108,
   "id": "77024a15",
   "metadata": {},
   "outputs": [
    {
     "data": {
      "text/plain": [
       "24"
      ]
     },
     "execution_count": 108,
     "metadata": {},
     "output_type": "execute_result"
    }
   ],
   "source": [
    "# Check for outliers in nonsmoker_df\n",
    "zscores= stats.zscore(nonsmoker_charges)\n",
    "outliers = abs(zscores)>3\n",
    "np.sum(outliers)"
   ]
  },
  {
   "cell_type": "code",
   "execution_count": 124,
   "id": "54bd0406",
   "metadata": {},
   "outputs": [],
   "source": [
    "# looping out all the outliers\n",
    "while np.sum(outliers) > 0 and len(outliers)> 0:\n",
    "    nonsmoker_charges = nonsmoker_charges[(np.abs(stats.zscore(nonsmoker_charges)) < 3)]\n",
    "    zscores= stats.zscore(nonsmoker_charges)\n",
    "    outliers = abs(zscores)>3\n",
    "    np.sum(outliers)"
   ]
  },
  {
   "cell_type": "code",
   "execution_count": 125,
   "id": "af9d684f",
   "metadata": {},
   "outputs": [
    {
     "data": {
      "text/plain": [
       "0"
      ]
     },
     "execution_count": 125,
     "metadata": {},
     "output_type": "execute_result"
    }
   ],
   "source": [
    "zscores= stats.zscore(nonsmoker_charges)\n",
    "outliers = abs(zscores)>3\n",
    "np.sum(outliers)"
   ]
  },
  {
   "cell_type": "markdown",
   "id": "85e785d5",
   "metadata": {},
   "source": [
    "### Check for Normality"
   ]
  },
  {
   "cell_type": "code",
   "execution_count": 126,
   "id": "3060075d",
   "metadata": {},
   "outputs": [
    {
     "data": {
      "text/plain": [
       "NormaltestResult(statistic=61.03941356533816, pvalue=5.564930630036463e-14)"
      ]
     },
     "execution_count": 126,
     "metadata": {},
     "output_type": "execute_result"
    }
   ],
   "source": [
    "# test the smoker_charges group for normality\n",
    "result_smoker_charges = stats.normaltest(smoker_charges)\n",
    "result_smoker_charges"
   ]
  },
  {
   "cell_type": "markdown",
   "id": "a2cd1c64",
   "metadata": {},
   "source": [
    "> smoker charges are not normally distributed."
   ]
  },
  {
   "cell_type": "code",
   "execution_count": 127,
   "id": "1402227c",
   "metadata": {},
   "outputs": [
    {
     "data": {
      "text/plain": [
       "NormaltestResult(statistic=55.893468599675245, pvalue=7.292685861395211e-13)"
      ]
     },
     "execution_count": 127,
     "metadata": {},
     "output_type": "execute_result"
    }
   ],
   "source": [
    "# test the smoker_charges group for normality\n",
    "result_nonsmoker_charges = stats.normaltest(nonsmoker_charges)\n",
    "result_nonsmoker_charges"
   ]
  },
  {
   "cell_type": "markdown",
   "id": "c4847cfa",
   "metadata": {},
   "source": [
    "> nonsmoker charges are not normally distributed."
   ]
  },
  {
   "cell_type": "markdown",
   "id": "ec3c015e",
   "metadata": {},
   "source": [
    "The samples sizes large enough to not need to be normally distributed."
   ]
  },
  {
   "cell_type": "markdown",
   "id": "d15154b7",
   "metadata": {},
   "source": [
    "### Check for Equal Variance"
   ]
  },
  {
   "cell_type": "code",
   "execution_count": 128,
   "id": "e1955464",
   "metadata": {},
   "outputs": [
    {
     "data": {
      "text/plain": [
       "LeveneResult(statistic=791.4740947105306, pvalue=7.254211040409339e-136)"
      ]
     },
     "execution_count": 128,
     "metadata": {},
     "output_type": "execute_result"
    }
   ],
   "source": [
    "# Test for equal variance\n",
    "result = stats.levene(smoker_charges, nonsmoker_charges)\n",
    "result"
   ]
  },
  {
   "cell_type": "markdown",
   "id": "99f6163c",
   "metadata": {},
   "source": [
    ">  variances is not equal, so we have to put \"equal_var = False\" when we perform our t-test."
   ]
  },
  {
   "cell_type": "markdown",
   "id": "b08b9aa6",
   "metadata": {},
   "source": [
    "## Perform and evaluate the t-test"
   ]
  },
  {
   "cell_type": "code",
   "execution_count": 129,
   "id": "6abee7ac",
   "metadata": {},
   "outputs": [
    {
     "data": {
      "text/plain": [
       "Ttest_indResult(statistic=34.76759075466699, pvalue=5.672680697343108e-106)"
      ]
     },
     "execution_count": 129,
     "metadata": {},
     "output_type": "execute_result"
    }
   ],
   "source": [
    "result = stats.ttest_ind(smoker_charges, nonsmoker_charges, equal_var = False)\n",
    "result"
   ]
  },
  {
   "cell_type": "markdown",
   "id": "b5957a42",
   "metadata": {},
   "source": [
    "> Our p-value < alpha (0.05), so we reject the null hypothesis and accept that there is a significant difference between smoker and non-smoker insurance charge."
   ]
  },
  {
   "cell_type": "markdown",
   "id": "f0242646",
   "metadata": {},
   "source": [
    "## Supporting Visualization"
   ]
  },
  {
   "cell_type": "code",
   "execution_count": 131,
   "id": "feccd939",
   "metadata": {},
   "outputs": [
    {
     "data": {
      "text/plain": [
       "Text(0.5, 1.0, \" The groups's mean\")"
      ]
     },
     "execution_count": 131,
     "metadata": {},
     "output_type": "execute_result"
    },
    {
     "data": {
      "image/png": "[encoded data removed]",
      "text/plain": [
       "<Figure size 640x480 with 1 Axes>"
      ]
     },
     "metadata": {},
     "output_type": "display_data"
    }
   ],
   "source": [
    "ax = sns.barplot(x=['smoker','non-smoker'], y=[smoker_charges.mean(),nonsmoker_charges.mean()])\n",
    "ax.bar_label(ax.containers[0])\n",
    "plt.title(' The groups\\'s mean')"
   ]
  },
  {
   "cell_type": "markdown",
   "id": "70edb4b5",
   "metadata": {},
   "source": [
    "# Are men more likely to smoke than women?"
   ]
  },
  {
   "cell_type": "markdown",
   "id": "723571b4",
   "metadata": {},
   "source": [
    ">Null Hypothesis:</br> There is no difference in the numbers male smoker than women smoker \n",
    "\n",
    ">Alternative Hypothesis:</br>  There is difference in the numbers male smoker than women smoker \n"
   ]
  },
  {
   "cell_type": "markdown",
   "id": "6b189231",
   "metadata": {},
   "source": [
    "## Info on samples"
   ]
  },
  {
   "cell_type": "code",
   "execution_count": 134,
   "id": "80d85b86",
   "metadata": {},
   "outputs": [
    {
     "data": {
      "text/html": [
       "<div>\n",
       "<style scoped>\n",
       "    .dataframe tbody tr th:only-of-type {\n",
       "        vertical-align: middle;\n",
       "    }\n",
       "\n",
       "    .dataframe tbody tr th {\n",
       "        vertical-align: top;\n",
       "    }\n",
       "\n",
       "    .dataframe thead th {\n",
       "        text-align: right;\n",
       "    }\n",
       "</style>\n",
       "<table border=\"1\" class=\"dataframe\">\n",
       "  <thead>\n",
       "    <tr style=\"text-align: right;\">\n",
       "      <th>smoker</th>\n",
       "      <th>no</th>\n",
       "      <th>yes</th>\n",
       "    </tr>\n",
       "    <tr>\n",
       "      <th>sex</th>\n",
       "      <th></th>\n",
       "      <th></th>\n",
       "    </tr>\n",
       "  </thead>\n",
       "  <tbody>\n",
       "    <tr>\n",
       "      <th>female</th>\n",
       "      <td>547</td>\n",
       "      <td>115</td>\n",
       "    </tr>\n",
       "    <tr>\n",
       "      <th>male</th>\n",
       "      <td>517</td>\n",
       "      <td>159</td>\n",
       "    </tr>\n",
       "  </tbody>\n",
       "</table>\n",
       "</div>"
      ],
      "text/plain": [
       "smoker   no  yes\n",
       "sex             \n",
       "female  547  115\n",
       "male    517  159"
      ]
     },
     "execution_count": 134,
     "metadata": {},
     "output_type": "execute_result"
    }
   ],
   "source": [
    "# calculate the contingency table with pd.cross-tab\n",
    "table = pd.crosstab(df['sex'], df['smoker'])\n",
    "table"
   ]
  },
  {
   "cell_type": "markdown",
   "id": "91ff021e",
   "metadata": {},
   "source": [
    "## ASSUMPTIONS"
   ]
  },
  {
   "cell_type": "markdown",
   "id": "75e2edc2",
   "metadata": {},
   "source": [
    "- There are two categorical variables (ordinal or nominal)\n",
    "That true.\n",
    "- The outcomes are independent\n",
    "They are both  independent."
   ]
  },
  {
   "cell_type": "markdown",
   "id": "2b745855",
   "metadata": {},
   "source": [
    "## Perform and evaluate the Chi-Square Test"
   ]
  },
  {
   "cell_type": "code",
   "execution_count": 135,
   "id": "18340f94",
   "metadata": {},
   "outputs": [
    {
     "name": "stdout",
     "output_type": "stream",
     "text": [
      "0.006548143503580696\n"
     ]
    },
    {
     "data": {
      "text/plain": [
       "True"
      ]
     },
     "execution_count": 135,
     "metadata": {},
     "output_type": "execute_result"
    }
   ],
   "source": [
    "#getting the p_value\n",
    "result = stats.chi2_contingency(table)\n",
    "chi2, p, deg_free, expected_vals = result\n",
    "# test the p-value?\n",
    "print(p)\n",
    "p<.05"
   ]
  },
  {
   "cell_type": "markdown",
   "id": "2d01bee1",
   "metadata": {},
   "source": [
    "> Our p-value < .05, we reject the null hypothesis and accept the alternate hypothesis there is difference in the numbers male smoker than women smoker.\n"
   ]
  },
  {
   "cell_type": "markdown",
   "id": "efd2306a",
   "metadata": {},
   "source": [
    "## Supporting Visualization"
   ]
  },
  {
   "cell_type": "code",
   "execution_count": 136,
   "id": "9755c905",
   "metadata": {},
   "outputs": [
    {
     "data": {
      "image/png": "[encoded data removed]",
      "text/plain": [
       "<Figure size 640x480 with 1 Axes>"
      ]
     },
     "metadata": {},
     "output_type": "display_data"
    }
   ],
   "source": [
    "ax = sns.countplot(data=df, x='sex',hue='smoker',)\n",
    "ax.set_title(\"Number of Smoker by Sex\");"
   ]
  },
  {
   "cell_type": "markdown",
   "id": "b4cfcd62",
   "metadata": {},
   "source": [
    "# Do different regions have different charges, on average?"
   ]
  },
  {
   "cell_type": "markdown",
   "id": "188fc6f6",
   "metadata": {},
   "source": [
    "Null Hypothesis:</br>\n",
    "That all regions' charges are the same, on average.\n",
    "\n",
    "Alternative Hypothesis: </br>\n",
    "That there is a difference in regions' charges, on average.\n"
   ]
  },
  {
   "cell_type": "markdown",
   "id": "8756a58d",
   "metadata": {},
   "source": [
    "## Separating Our Groups"
   ]
  },
  {
   "cell_type": "code",
   "execution_count": 137,
   "id": "6a6089c6",
   "metadata": {},
   "outputs": [
    {
     "data": {
      "text/plain": [
       "dict_keys(['southwest', 'southeast', 'northwest', 'northeast'])"
      ]
     },
     "execution_count": 137,
     "metadata": {},
     "output_type": "execute_result"
    }
   ],
   "source": [
    "## Create groups dictionary. There are only 3 groups, but this is even more helpful when there are many groups\n",
    "groups = {}\n",
    "## Loop through all unique categories\n",
    "for i in df['region'].unique():\n",
    "    ## Get series for group and rename\n",
    "    data = df.loc[df['region']==i,'charges'].copy()\n",
    "    \n",
    "    # save into the dictionary\n",
    "    groups[i] = data\n",
    "groups.keys()"
   ]
  },
  {
   "cell_type": "markdown",
   "id": "1bbb3fcd",
   "metadata": {},
   "source": [
    "## Assumptions"
   ]
  },
  {
   "cell_type": "markdown",
   "id": "9df927de",
   "metadata": {},
   "source": [
    "### Checking for Normality"
   ]
  },
  {
   "cell_type": "code",
   "execution_count": 138,
   "id": "405692cd",
   "metadata": {},
   "outputs": [
    {
     "data": {
      "text/html": [
       "<div>\n",
       "<style scoped>\n",
       "    .dataframe tbody tr th:only-of-type {\n",
       "        vertical-align: middle;\n",
       "    }\n",
       "\n",
       "    .dataframe tbody tr th {\n",
       "        vertical-align: top;\n",
       "    }\n",
       "\n",
       "    .dataframe thead th {\n",
       "        text-align: right;\n",
       "    }\n",
       "</style>\n",
       "<table border=\"1\" class=\"dataframe\">\n",
       "  <thead>\n",
       "    <tr style=\"text-align: right;\">\n",
       "      <th></th>\n",
       "      <th>n</th>\n",
       "      <th>p</th>\n",
       "      <th>test stat</th>\n",
       "    </tr>\n",
       "  </thead>\n",
       "  <tbody>\n",
       "    <tr>\n",
       "      <th>southwest</th>\n",
       "      <td>325.0</td>\n",
       "      <td>6.125298e-23</td>\n",
       "      <td>102.294059</td>\n",
       "    </tr>\n",
       "    <tr>\n",
       "      <th>southeast</th>\n",
       "      <td>364.0</td>\n",
       "      <td>4.953297e-15</td>\n",
       "      <td>65.877446</td>\n",
       "    </tr>\n",
       "    <tr>\n",
       "      <th>northwest</th>\n",
       "      <td>325.0</td>\n",
       "      <td>5.184209e-24</td>\n",
       "      <td>107.232850</td>\n",
       "    </tr>\n",
       "    <tr>\n",
       "      <th>northeast</th>\n",
       "      <td>324.0</td>\n",
       "      <td>1.455431e-19</td>\n",
       "      <td>86.747629</td>\n",
       "    </tr>\n",
       "  </tbody>\n",
       "</table>\n",
       "</div>"
      ],
      "text/plain": [
       "               n             p   test stat\n",
       "southwest  325.0  6.125298e-23  102.294059\n",
       "southeast  364.0  4.953297e-15   65.877446\n",
       "northwest  325.0  5.184209e-24  107.232850\n",
       "northeast  324.0  1.455431e-19   86.747629"
      ]
     },
     "execution_count": 138,
     "metadata": {},
     "output_type": "execute_result"
    }
   ],
   "source": [
    "## Running normal test on each group and confirming there are >20 in each group\n",
    "norm_results = {}\n",
    "for i, data in groups.items():\n",
    "    stat, p = stats.normaltest(data)\n",
    "    ## save the p val, test statistic, and the size of the group\n",
    "    norm_results[i] = {'n': len(data),\n",
    "                             'p':p,\n",
    "                             'test stat':stat,}\n",
    "## convert to a dataframe\n",
    "norm_results_df = pd.DataFrame(norm_results).T\n",
    "norm_results_df"
   ]
  },
  {
   "cell_type": "code",
   "execution_count": 139,
   "id": "57c0fd27",
   "metadata": {},
   "outputs": [
    {
     "data": {
      "text/html": [
       "<div>\n",
       "<style scoped>\n",
       "    .dataframe tbody tr th:only-of-type {\n",
       "        vertical-align: middle;\n",
       "    }\n",
       "\n",
       "    .dataframe tbody tr th {\n",
       "        vertical-align: top;\n",
       "    }\n",
       "\n",
       "    .dataframe thead th {\n",
       "        text-align: right;\n",
       "    }\n",
       "</style>\n",
       "<table border=\"1\" class=\"dataframe\">\n",
       "  <thead>\n",
       "    <tr style=\"text-align: right;\">\n",
       "      <th></th>\n",
       "      <th>n</th>\n",
       "      <th>p</th>\n",
       "      <th>test stat</th>\n",
       "      <th>sig</th>\n",
       "    </tr>\n",
       "  </thead>\n",
       "  <tbody>\n",
       "    <tr>\n",
       "      <th>southwest</th>\n",
       "      <td>325.0</td>\n",
       "      <td>6.125298e-23</td>\n",
       "      <td>102.294059</td>\n",
       "      <td>True</td>\n",
       "    </tr>\n",
       "    <tr>\n",
       "      <th>southeast</th>\n",
       "      <td>364.0</td>\n",
       "      <td>4.953297e-15</td>\n",
       "      <td>65.877446</td>\n",
       "      <td>True</td>\n",
       "    </tr>\n",
       "    <tr>\n",
       "      <th>northwest</th>\n",
       "      <td>325.0</td>\n",
       "      <td>5.184209e-24</td>\n",
       "      <td>107.232850</td>\n",
       "      <td>True</td>\n",
       "    </tr>\n",
       "    <tr>\n",
       "      <th>northeast</th>\n",
       "      <td>324.0</td>\n",
       "      <td>1.455431e-19</td>\n",
       "      <td>86.747629</td>\n",
       "      <td>True</td>\n",
       "    </tr>\n",
       "  </tbody>\n",
       "</table>\n",
       "</div>"
      ],
      "text/plain": [
       "               n             p   test stat   sig\n",
       "southwest  325.0  6.125298e-23  102.294059  True\n",
       "southeast  364.0  4.953297e-15   65.877446  True\n",
       "northwest  325.0  5.184209e-24  107.232850  True\n",
       "northeast  324.0  1.455431e-19   86.747629  True"
      ]
     },
     "execution_count": 139,
     "metadata": {},
     "output_type": "execute_result"
    }
   ],
   "source": [
    "### checking sig with pandas \n",
    "norm_results_df['sig'] = norm_results_df['p'] < .05 \n",
    "norm_results_df"
   ]
  },
  {
   "cell_type": "markdown",
   "id": "85cd0eb3",
   "metadata": {},
   "source": [
    "> There is no normality in any of the groups,</br>but sample is large enough that it not needed. "
   ]
  },
  {
   "cell_type": "markdown",
   "id": "82e9905f",
   "metadata": {},
   "source": [
    "### Checking for Equal Variance\n"
   ]
  },
  {
   "cell_type": "code",
   "execution_count": 140,
   "id": "b1da2c4f",
   "metadata": {},
   "outputs": [
    {
     "data": {
      "text/plain": [
       "LeveneResult(statistic=5.559966758410606, pvalue=0.0008610590250786703)"
      ]
     },
     "execution_count": 140,
     "metadata": {},
     "output_type": "execute_result"
    }
   ],
   "source": [
    "stats.levene(*groups.values())"
   ]
  },
  {
   "cell_type": "markdown",
   "id": "b9535730",
   "metadata": {},
   "source": [
    ">  we don't have equal variances in the groups, so we will use a non-parametric equivalent of our test."
   ]
  },
  {
   "cell_type": "markdown",
   "id": "7a692d05",
   "metadata": {},
   "source": [
    "## Perform and evaluate the Kruskal-Wallis"
   ]
  },
  {
   "cell_type": "code",
   "execution_count": 141,
   "id": "bf1bdbfd",
   "metadata": {},
   "outputs": [
    {
     "data": {
      "text/plain": [
       "KruskalResult(statistic=4.734181215658743, pvalue=0.19232908072121002)"
      ]
     },
     "execution_count": 141,
     "metadata": {},
     "output_type": "execute_result"
    }
   ],
   "source": [
    "result = stats.kruskal( *groups.values())\n",
    "result"
   ]
  },
  {
   "cell_type": "markdown",
   "id": "08abba4a",
   "metadata": {},
   "source": [
    "> The p-value > 0.05 so, we fail to reject the null hypothesis.</br> That all regions' charges are the same, on average.\n"
   ]
  },
  {
   "cell_type": "markdown",
   "id": "d121c948",
   "metadata": {},
   "source": [
    "## Supporting Visualization"
   ]
  },
  {
   "cell_type": "code",
   "execution_count": 143,
   "id": "4dab149a",
   "metadata": {},
   "outputs": [
    {
     "data": {
      "image/png": "[encoded data removed]",
      "text/plain": [
       "<Figure size 640x480 with 1 Axes>"
      ]
     },
     "metadata": {},
     "output_type": "display_data"
    }
   ],
   "source": [
    "sns.barplot(data=df, x='region',y='charges');"
   ]
  }
 ],
 "metadata": {
  "kernelspec": {
   "display_name": "Python (dojo-env)",
   "language": "python",
   "name": "dojo-env"
  },
  "language_info": {
   "codemirror_mode": {
    "name": "ipython",
    "version": 3
   },
   "file_extension": ".py",
   "mimetype": "text/x-python",
   "name": "python",
   "nbconvert_exporter": "python",
   "pygments_lexer": "ipython3",
   "version": "3.8.13"
  },
  "toc": {
   "base_numbering": 1,
   "nav_menu": {},
   "number_sections": false,
   "sideBar": true,
   "skip_h1_title": false,
   "title_cell": "Table of Contents",
   "title_sidebar": "Contents",
   "toc_cell": false,
   "toc_position": {},
   "toc_section_display": true,
   "toc_window_display": false
  }
 },
 "nbformat": 4,
 "nbformat_minor": 5
}
